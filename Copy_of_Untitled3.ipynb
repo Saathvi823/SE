{
  "nbformat": 4,
  "nbformat_minor": 0,
  "metadata": {
    "colab": {
      "provenance": [],
      "authorship_tag": "ABX9TyPb0nTG7nVMsHsk3OoMW6uj",
      "include_colab_link": true
    },
    "kernelspec": {
      "name": "python3",
      "display_name": "Python 3"
    },
    "language_info": {
      "name": "python"
    }
  },
  "cells": [
    {
      "cell_type": "markdown",
      "metadata": {
        "id": "view-in-github",
        "colab_type": "text"
      },
      "source": [
        "<a href=\"https://colab.research.google.com/github/Saathvi823/SE/blob/main/Copy_of_Untitled3.ipynb\" target=\"_parent\"><img src=\"https://colab.research.google.com/assets/colab-badge.svg\" alt=\"Open In Colab\"/></a>"
      ]
    },
    {
      "cell_type": "code",
      "execution_count": null,
      "metadata": {
        "id": "ixQ-1JRiJTPx"
      },
      "outputs": [],
      "source": [
        "class QuadraticWeatherModel:\n",
        "    def _init_(self):\n",
        "        pass\n",
        "\n",
        "    def calculate(self, T, H, W):\n",
        "        \"\"\"Calculate the weather model based on temperature, humidity, and wind speed.\"\"\"\n",
        "        return 0.5 * T**2 - 0.2 * H + 0.1 * W - 15\n",
        "\n",
        "    def hardcoded_values(self):\n",
        "        \"\"\"Use hardcoded values for weather modeling.\"\"\"\n",
        "        T = 30\n",
        "        H = 50\n",
        "        W = 10\n",
        "        return self.calculate(T, H, W)\n",
        "\n",
        "    def input_from_keyboard(self):\n",
        "        \"\"\"Get weather parameters from keyboard input.\"\"\"\n",
        "        T = float(input(\"Enter the temperature (T): \"))\n",
        "        H = float(input(\"Enter the humidity (H): \"))\n",
        "        W = float(input(\"Enter the wind speed (W): \"))\n",
        "        return self.calculate(T, H, W)\n",
        "\n",
        "    def input_from_file_single(self, filename):\n",
        "        \"\"\"Read a single set of inputs from a file.\"\"\"\n",
        "        with open(filename, \"r\") as file:\n",
        "            data = file.readline().strip().split()\n",
        "            T, H, W = map(float, data)\n",
        "            return self.calculate(T, H, W)\n",
        "\n",
        "    def input_from_file_multiple(self, filename):\n",
        "        \"\"\"Read multiple sets of inputs from a file.\"\"\"\n",
        "        results = []\n",
        "        with open(filename, \"r\") as file:\n",
        "            lines = file.readlines()\n",
        "            for idx, line in enumerate(lines):\n",
        "                T, H, W = map(float, line.strip().split())\n",
        "                results.append((idx + 1, self.calculate(T, H, W)))\n",
        "        return results\n",
        "\n",
        "    def input_multiple_sets_keyboard(self):\n",
        "        \"\"\"Get multiple sets of weather parameters from keyboard input.\"\"\"\n",
        "        num_sets = int(input(\"Enter the number of input sets: \"))\n",
        "        results = []\n",
        "\n",
        "        for i in range(num_sets):\n",
        "            print(f\"\\nSet {i + 1}:\")\n",
        "            T = float(input(\"Enter the temperature (T): \"))\n",
        "            H = float(input(\"Enter the humidity (H): \"))\n",
        "            W = float(input(\"Enter the wind speed (W): \"))\n",
        "            results.append((i + 1, self.calculate(T, H, W)))\n",
        "\n",
        "        return results\n",
        "\n",
        "\n",
        "\n",
        "import unittest\n",
        "\n",
        "class TestQuadraticWeatherModel(unittest.TestCase):\n",
        "\n",
        "    def setUp(self):\n",
        "        self.model = QuadraticWeatherModel()\n",
        "\n",
        "    def test_calculate(self):\n",
        "        # Test with known values"
      ]
    }
  ]
}